{
  "nbformat": 4,
  "nbformat_minor": 0,
  "metadata": {
    "colab": {
      "name": "Derivada Direcional.ipynb",
      "provenance": [],
      "collapsed_sections": []
    },
    "kernelspec": {
      "name": "python3",
      "display_name": "Python 3"
    },
    "language_info": {
      "name": "python"
    }
  },
  "cells": [
    {
      "cell_type": "code",
      "metadata": {
        "id": "1aH4KksJPKUG"
      },
      "source": [
        "from sympy import *\n",
        "init_printing(use_unicode=True)\n",
        "x, y, z = symbols('x y z')"
      ],
      "execution_count": null,
      "outputs": []
    },
    {
      "cell_type": "code",
      "metadata": {
        "colab": {
          "base_uri": "https://localhost:8080/",
          "height": 38
        },
        "id": "fYTL387zQ5NX",
        "outputId": "0728b74a-5b26-45c9-ffc6-5709a70d9c07"
      },
      "source": [
        "# Entre com os valores:\n",
        "\n",
        "u = (sqrt(2,2)/2, -sqrt(2,2)/2) \n",
        "P = (1, 2)\n",
        "f = y**2 / x\n",
        "\n",
        "# Verifica se u é unitário e normaliza caso não seja:\n",
        "\n",
        "mod_u = sqrt((u[0]**2)+(u[1]**2))\n",
        "\n",
        "# Calcula a derivada direcional de f em P na direção de u:\n",
        "\n",
        "fx = diff(f, x).subs({x: P[0], y: P[1]})\n",
        "fy = diff(f, y).subs({x: P[0], y: P[1]})\n",
        "\n",
        "derivada_direcional = fx*u[0] + fy*u[1]\n",
        "\n",
        "derivada_direcional"
      ],
      "execution_count": null,
      "outputs": [
        {
          "output_type": "execute_result",
          "data": {
            "image/png": "[encoded data removed]",
            "text/latex": "$\\displaystyle - 4 \\sqrt{2}$",
            "text/plain": [
              "-4⋅√2"
            ]
          },
          "metadata": {
            "tags": []
          },
          "execution_count": 23
        }
      ]
    },
    {
      "cell_type": "code",
      "metadata": {
        "colab": {
          "base_uri": "https://localhost:8080/",
          "height": 37
        },
        "id": "ilgz5IlwU0nx",
        "outputId": "b5fa9768-4ea4-4c5d-8626-de21807671e6"
      },
      "source": [
        "fy"
      ],
      "execution_count": null,
      "outputs": [
        {
          "output_type": "execute_result",
          "data": {
            "image/png": "[encoded data removed]",
            "text/latex": "$\\displaystyle 4$",
            "text/plain": [
              "4"
            ]
          },
          "metadata": {
            "tags": []
          },
          "execution_count": 28
        }
      ]
    },
    {
      "cell_type": "code",
      "metadata": {
        "id": "M_Pvqbm3oKp9",
        "colab": {
          "base_uri": "https://localhost:8080/",
          "height": 37
        },
        "outputId": "e58ef7af-ce4b-44fd-baf3-59d231354968"
      },
      "source": [
        "# Entre com os valores:\n",
        "\n",
        "P = (-8, 6)\n",
        "f = sin(3*x+4*y)\n",
        "\n",
        "# Calcula a derivada direcional de f em P na direção de u:\n",
        "\n",
        "fx = diff(f, x).subs({x: P[0], y: P[1]})\n",
        "fy = diff(f, y).subs({x: P[0], y: P[1]})\n",
        "\n",
        "fx"
      ],
      "execution_count": null,
      "outputs": [
        {
          "output_type": "execute_result",
          "data": {
            "image/png": "[encoded data removed]",
            "text/latex": "$\\displaystyle 3$",
            "text/plain": [
              "3"
            ]
          },
          "metadata": {
            "tags": []
          },
          "execution_count": 15
        }
      ]
    },
    {
      "cell_type": "code",
      "metadata": {
        "colab": {
          "base_uri": "https://localhost:8080/",
          "height": 37
        },
        "id": "DEOIcJCQTiAV",
        "outputId": "ecb2d2ed-6ef5-4e77-f935-617efba98e64"
      },
      "source": [
        "fy"
      ],
      "execution_count": null,
      "outputs": [
        {
          "output_type": "execute_result",
          "data": {
            "image/png": "[encoded data removed]",
            "text/latex": "$\\displaystyle 4$",
            "text/plain": [
              "4"
            ]
          },
          "metadata": {
            "tags": []
          },
          "execution_count": 16
        }
      ]
    }
  ]
}